{
 "cells": [
  {
   "cell_type": "code",
   "execution_count": 6,
   "metadata": {},
   "outputs": [],
   "source": [
    "#Step:1 import Libraries and load the model\n",
    "import numpy as np\n",
    "import tensorflow as tf\n",
    "from tensorflow.keras.preprocessing import sequence\n",
    "from tensorflow.keras.datasets import imdb\n",
    "from tensorflow.keras.models import Sequential,load_model"
   ]
  },
  {
   "cell_type": "code",
   "execution_count": 7,
   "metadata": {},
   "outputs": [],
   "source": [
    "#load the imdb data word index\n",
    "word_index = imdb.get_word_index()\n",
    "reverse_word_index = {value:key for key, value in word_index.items()}"
   ]
  },
  {
   "cell_type": "code",
   "execution_count": 8,
   "metadata": {},
   "outputs": [
    {
     "name": "stderr",
     "output_type": "stream",
     "text": [
      "WARNING:absl:Compiled the loaded model, but the compiled metrics have yet to be built. `model.compile_metrics` will be empty until you train or evaluate the model.\n"
     ]
    },
    {
     "data": {
      "text/html": [
       "<pre style=\"white-space:pre;overflow-x:auto;line-height:normal;font-family:Menlo,'DejaVu Sans Mono',consolas,'Courier New',monospace\"><span style=\"font-weight: bold\">Model: \"sequential_2\"</span>\n",
       "</pre>\n"
      ],
      "text/plain": [
       "\u001b[1mModel: \"sequential_2\"\u001b[0m\n"
      ]
     },
     "metadata": {},
     "output_type": "display_data"
    },
    {
     "data": {
      "text/html": [
       "<pre style=\"white-space:pre;overflow-x:auto;line-height:normal;font-family:Menlo,'DejaVu Sans Mono',consolas,'Courier New',monospace\">┏━━━━━━━━━━━━━━━━━━━━━━━━━━━━━━━━━┳━━━━━━━━━━━━━━━━━━━━━━━━┳━━━━━━━━━━━━━━━┓\n",
       "┃<span style=\"font-weight: bold\"> Layer (type)                    </span>┃<span style=\"font-weight: bold\"> Output Shape           </span>┃<span style=\"font-weight: bold\">       Param # </span>┃\n",
       "┡━━━━━━━━━━━━━━━━━━━━━━━━━━━━━━━━━╇━━━━━━━━━━━━━━━━━━━━━━━━╇━━━━━━━━━━━━━━━┩\n",
       "│ embedding_1 (<span style=\"color: #0087ff; text-decoration-color: #0087ff\">Embedding</span>)         │ (<span style=\"color: #00af00; text-decoration-color: #00af00\">32</span>, <span style=\"color: #00af00; text-decoration-color: #00af00\">500</span>, <span style=\"color: #00af00; text-decoration-color: #00af00\">128</span>)         │     <span style=\"color: #00af00; text-decoration-color: #00af00\">1,280,000</span> │\n",
       "├─────────────────────────────────┼────────────────────────┼───────────────┤\n",
       "│ simple_rnn_1 (<span style=\"color: #0087ff; text-decoration-color: #0087ff\">SimpleRNN</span>)        │ (<span style=\"color: #00af00; text-decoration-color: #00af00\">32</span>, <span style=\"color: #00af00; text-decoration-color: #00af00\">128</span>)              │        <span style=\"color: #00af00; text-decoration-color: #00af00\">32,896</span> │\n",
       "├─────────────────────────────────┼────────────────────────┼───────────────┤\n",
       "│ dense_1 (<span style=\"color: #0087ff; text-decoration-color: #0087ff\">Dense</span>)                 │ (<span style=\"color: #00af00; text-decoration-color: #00af00\">32</span>, <span style=\"color: #00af00; text-decoration-color: #00af00\">1</span>)                │           <span style=\"color: #00af00; text-decoration-color: #00af00\">129</span> │\n",
       "└─────────────────────────────────┴────────────────────────┴───────────────┘\n",
       "</pre>\n"
      ],
      "text/plain": [
       "┏━━━━━━━━━━━━━━━━━━━━━━━━━━━━━━━━━┳━━━━━━━━━━━━━━━━━━━━━━━━┳━━━━━━━━━━━━━━━┓\n",
       "┃\u001b[1m \u001b[0m\u001b[1mLayer (type)                   \u001b[0m\u001b[1m \u001b[0m┃\u001b[1m \u001b[0m\u001b[1mOutput Shape          \u001b[0m\u001b[1m \u001b[0m┃\u001b[1m \u001b[0m\u001b[1m      Param #\u001b[0m\u001b[1m \u001b[0m┃\n",
       "┡━━━━━━━━━━━━━━━━━━━━━━━━━━━━━━━━━╇━━━━━━━━━━━━━━━━━━━━━━━━╇━━━━━━━━━━━━━━━┩\n",
       "│ embedding_1 (\u001b[38;5;33mEmbedding\u001b[0m)         │ (\u001b[38;5;34m32\u001b[0m, \u001b[38;5;34m500\u001b[0m, \u001b[38;5;34m128\u001b[0m)         │     \u001b[38;5;34m1,280,000\u001b[0m │\n",
       "├─────────────────────────────────┼────────────────────────┼───────────────┤\n",
       "│ simple_rnn_1 (\u001b[38;5;33mSimpleRNN\u001b[0m)        │ (\u001b[38;5;34m32\u001b[0m, \u001b[38;5;34m128\u001b[0m)              │        \u001b[38;5;34m32,896\u001b[0m │\n",
       "├─────────────────────────────────┼────────────────────────┼───────────────┤\n",
       "│ dense_1 (\u001b[38;5;33mDense\u001b[0m)                 │ (\u001b[38;5;34m32\u001b[0m, \u001b[38;5;34m1\u001b[0m)                │           \u001b[38;5;34m129\u001b[0m │\n",
       "└─────────────────────────────────┴────────────────────────┴───────────────┘\n"
      ]
     },
     "metadata": {},
     "output_type": "display_data"
    },
    {
     "data": {
      "text/html": [
       "<pre style=\"white-space:pre;overflow-x:auto;line-height:normal;font-family:Menlo,'DejaVu Sans Mono',consolas,'Courier New',monospace\"><span style=\"font-weight: bold\"> Total params: </span><span style=\"color: #00af00; text-decoration-color: #00af00\">1,313,027</span> (5.01 MB)\n",
       "</pre>\n"
      ],
      "text/plain": [
       "\u001b[1m Total params: \u001b[0m\u001b[38;5;34m1,313,027\u001b[0m (5.01 MB)\n"
      ]
     },
     "metadata": {},
     "output_type": "display_data"
    },
    {
     "data": {
      "text/html": [
       "<pre style=\"white-space:pre;overflow-x:auto;line-height:normal;font-family:Menlo,'DejaVu Sans Mono',consolas,'Courier New',monospace\"><span style=\"font-weight: bold\"> Trainable params: </span><span style=\"color: #00af00; text-decoration-color: #00af00\">1,313,025</span> (5.01 MB)\n",
       "</pre>\n"
      ],
      "text/plain": [
       "\u001b[1m Trainable params: \u001b[0m\u001b[38;5;34m1,313,025\u001b[0m (5.01 MB)\n"
      ]
     },
     "metadata": {},
     "output_type": "display_data"
    },
    {
     "data": {
      "text/html": [
       "<pre style=\"white-space:pre;overflow-x:auto;line-height:normal;font-family:Menlo,'DejaVu Sans Mono',consolas,'Courier New',monospace\"><span style=\"font-weight: bold\"> Non-trainable params: </span><span style=\"color: #00af00; text-decoration-color: #00af00\">0</span> (0.00 B)\n",
       "</pre>\n"
      ],
      "text/plain": [
       "\u001b[1m Non-trainable params: \u001b[0m\u001b[38;5;34m0\u001b[0m (0.00 B)\n"
      ]
     },
     "metadata": {},
     "output_type": "display_data"
    },
    {
     "data": {
      "text/html": [
       "<pre style=\"white-space:pre;overflow-x:auto;line-height:normal;font-family:Menlo,'DejaVu Sans Mono',consolas,'Courier New',monospace\"><span style=\"font-weight: bold\"> Optimizer params: </span><span style=\"color: #00af00; text-decoration-color: #00af00\">2</span> (12.00 B)\n",
       "</pre>\n"
      ],
      "text/plain": [
       "\u001b[1m Optimizer params: \u001b[0m\u001b[38;5;34m2\u001b[0m (12.00 B)\n"
      ]
     },
     "metadata": {},
     "output_type": "display_data"
    }
   ],
   "source": [
    "#load the pretrained model with relu activation\n",
    "model = load_model('simple_rnn_imdb.h5')\n",
    "model.summary()"
   ]
  },
  {
   "cell_type": "code",
   "execution_count": 9,
   "metadata": {},
   "outputs": [
    {
     "data": {
      "text/plain": [
       "[array([[-0.73755014,  0.2687816 , -0.59946465, ...,  0.50121623,\n",
       "          0.32804492, -0.801687  ],\n",
       "        [-0.07556829, -0.03404144,  0.03789689, ...,  0.07211641,\n",
       "         -0.00461642, -0.05913659],\n",
       "        [-0.07899942, -0.11944496,  0.06897809, ..., -0.10715555,\n",
       "          0.13497877, -0.22327289],\n",
       "        ...,\n",
       "        [-0.11206149,  0.06103268, -0.10460745, ...,  0.1136355 ,\n",
       "         -0.04524645,  0.02596193],\n",
       "        [-0.01039277, -0.10699003, -0.07368688, ..., -0.0527326 ,\n",
       "          0.03859501, -0.01885631],\n",
       "        [ 0.1589776 ,  0.1125041 , -0.16111413, ...,  0.1635994 ,\n",
       "         -0.12087942,  0.19917266]], dtype=float32),\n",
       " array([[-0.12552221, -0.03913006,  0.1366327 , ..., -0.06314027,\n",
       "          0.16307351, -0.16134015],\n",
       "        [-0.08039856,  0.03478179, -0.053422  , ..., -0.0663262 ,\n",
       "         -0.08906145, -0.14135572],\n",
       "        [ 0.0006243 ,  0.19797619,  0.11316847, ...,  0.01379227,\n",
       "          0.04269724,  0.04570554],\n",
       "        ...,\n",
       "        [-0.073445  , -0.1252662 ,  0.1057423 , ...,  0.10007683,\n",
       "          0.02076419, -0.04336964],\n",
       "        [-0.14677694, -0.04790522, -0.17366579, ...,  0.04698608,\n",
       "          0.00691549,  0.1315371 ],\n",
       "        [-0.07676223, -0.10151745,  0.04042085, ..., -0.09171438,\n",
       "         -0.10517783, -0.14097531]], dtype=float32),\n",
       " array([[-0.03062535,  0.08399768, -0.02519435, ...,  0.06991868,\n",
       "         -0.05790764,  0.04896306],\n",
       "        [-0.01905851, -0.05135642, -0.03321894, ...,  0.07617339,\n",
       "          0.0622539 ,  0.14611053],\n",
       "        [-0.04172386,  0.02494821, -0.02132628, ..., -0.01241827,\n",
       "          0.05387132, -0.05927994],\n",
       "        ...,\n",
       "        [ 0.0349954 , -0.15982758, -0.06434369, ..., -0.06988432,\n",
       "         -0.21657711, -0.02135661],\n",
       "        [-0.04382005, -0.15700513, -0.05324549, ..., -0.19613072,\n",
       "          0.18194538,  0.11103541],\n",
       "        [ 0.00223332, -0.11819771,  0.50123054, ...,  0.02048541,\n",
       "          0.12839879, -0.0712615 ]], dtype=float32),\n",
       " array([ 1.74332485e-02,  3.13039985e-03, -3.86288539e-02,  2.83920038e-02,\n",
       "         1.62631273e-02, -3.58976386e-02, -6.03216104e-02, -4.46213037e-02,\n",
       "         4.66272198e-02, -6.20019585e-02, -4.46513109e-02,  4.43054028e-02,\n",
       "         5.30995354e-02, -2.33450495e-02,  5.51163033e-02,  2.46562399e-02,\n",
       "         9.56803467e-03,  1.44012654e-02,  7.71350041e-03, -1.48873003e-02,\n",
       "        -2.33615134e-02, -1.44628175e-02,  5.48602156e-02, -4.86220196e-02,\n",
       "        -6.00117631e-02,  1.65219288e-02,  1.88872553e-02, -2.08070446e-02,\n",
       "        -1.80554986e-02,  1.01544913e-02, -1.82139613e-02, -3.99518237e-02,\n",
       "        -6.41669035e-02,  3.06576937e-02,  4.45102863e-02, -6.51370734e-02,\n",
       "        -1.05238259e-02,  1.77282263e-02,  8.92254975e-05, -1.68440174e-02,\n",
       "        -3.18660922e-02,  2.19243094e-02, -4.05951776e-02,  3.34548652e-02,\n",
       "         1.63708590e-02,  3.09641641e-02,  2.11007544e-03,  1.65148545e-02,\n",
       "        -3.43262106e-02, -2.31349021e-02,  2.28410866e-02, -2.44227685e-02,\n",
       "         4.40520048e-02, -4.11502756e-02, -1.18530327e-02, -4.78930697e-02,\n",
       "         1.96954105e-02, -1.76613722e-02, -6.12784810e-02, -9.26539823e-02,\n",
       "         4.05023769e-02,  6.75291717e-02, -2.55721323e-02, -3.81932706e-02,\n",
       "        -2.41359528e-02, -3.09622101e-02, -4.98110093e-02,  6.50752941e-03,\n",
       "         7.06144571e-02, -3.13088000e-02, -5.56625575e-02,  2.59430502e-02,\n",
       "         4.68618758e-02, -2.75710393e-02, -1.31466966e-02, -2.08649952e-02,\n",
       "        -4.72565293e-02, -3.83426398e-02, -3.96948233e-02,  1.63771529e-02,\n",
       "         2.42297482e-02,  2.68858410e-02, -2.97765788e-02, -5.76013513e-02,\n",
       "         1.06330938e-03, -2.34331694e-02,  4.50909771e-02,  1.36300194e-04,\n",
       "         5.91348745e-02,  4.22325656e-02,  4.28202935e-02,  4.63740937e-02,\n",
       "        -4.80205826e-02, -4.45939898e-02, -1.38976797e-02,  7.44141415e-02,\n",
       "         3.17262975e-03,  5.05383033e-03, -7.84258172e-02, -4.65063639e-02,\n",
       "         7.89667219e-02,  2.77425610e-02, -6.46881312e-02, -4.60005850e-02,\n",
       "        -9.74960066e-03, -2.90369596e-02, -5.47867715e-02, -1.79943815e-02,\n",
       "        -6.31156191e-02, -9.15472135e-02, -3.79549526e-02, -1.21327108e-02,\n",
       "        -5.19563220e-02, -4.40710932e-02, -7.13187158e-02, -1.26734795e-02,\n",
       "         2.22803373e-02,  5.54814227e-02, -5.30370250e-02,  2.30059642e-02,\n",
       "        -7.83919469e-02,  5.42842448e-02, -4.16158931e-03,  1.96110252e-02,\n",
       "        -3.04859281e-02, -3.49550545e-02, -5.15053794e-02,  4.14922386e-02],\n",
       "       dtype=float32),\n",
       " array([[-1.85826445e+00],\n",
       "        [ 7.07042739e-02],\n",
       "        [-1.30434530e-02],\n",
       "        [-9.29008797e-02],\n",
       "        [-7.80920088e-01],\n",
       "        [ 1.06713958e-01],\n",
       "        [-1.92364082e-02],\n",
       "        [ 7.81271830e-02],\n",
       "        [-2.14473754e-01],\n",
       "        [ 4.64666247e-01],\n",
       "        [ 3.60414326e-01],\n",
       "        [-1.77077964e-01],\n",
       "        [ 1.59741089e-01],\n",
       "        [ 2.41856128e-01],\n",
       "        [-1.82117701e-01],\n",
       "        [ 9.81367901e-02],\n",
       "        [ 1.34342015e-01],\n",
       "        [-1.66816581e-02],\n",
       "        [-4.44565155e-02],\n",
       "        [-1.26685485e-01],\n",
       "        [-2.15838104e-01],\n",
       "        [-5.23293577e-02],\n",
       "        [ 1.33932307e-01],\n",
       "        [ 1.73812330e-01],\n",
       "        [ 3.90946418e-01],\n",
       "        [-1.31549509e-02],\n",
       "        [ 2.70695202e-02],\n",
       "        [ 1.66159332e-01],\n",
       "        [ 1.77578047e-01],\n",
       "        [-4.29250412e-02],\n",
       "        [-7.33554363e-02],\n",
       "        [ 3.56016378e-03],\n",
       "        [-6.83915615e-02],\n",
       "        [-1.09166756e-01],\n",
       "        [-2.48319328e-01],\n",
       "        [ 4.91577722e-02],\n",
       "        [ 6.79692477e-02],\n",
       "        [-1.39775366e-01],\n",
       "        [-1.60715953e-01],\n",
       "        [-2.64508218e-01],\n",
       "        [ 4.43381183e-02],\n",
       "        [-1.26069129e-01],\n",
       "        [ 6.31572679e-02],\n",
       "        [-5.80823183e-01],\n",
       "        [ 3.34267579e-02],\n",
       "        [ 4.50099781e-02],\n",
       "        [ 6.04788423e-01],\n",
       "        [ 1.05357409e+00],\n",
       "        [ 2.10015461e-01],\n",
       "        [ 3.86593081e-02],\n",
       "        [-9.12997350e-02],\n",
       "        [-2.16632530e-01],\n",
       "        [ 1.82954773e-01],\n",
       "        [-1.33462980e-01],\n",
       "        [ 2.34708324e-01],\n",
       "        [ 1.12492576e-01],\n",
       "        [-3.32819633e-02],\n",
       "        [ 4.04860564e-02],\n",
       "        [ 1.55267775e-01],\n",
       "        [ 4.71419215e-01],\n",
       "        [-1.06248610e-01],\n",
       "        [ 5.05354116e-03],\n",
       "        [ 1.71895042e-01],\n",
       "        [ 6.95056021e-02],\n",
       "        [ 4.02405739e-01],\n",
       "        [-1.27702042e-01],\n",
       "        [-3.86866450e-01],\n",
       "        [-4.98783030e-02],\n",
       "        [-5.37770651e-02],\n",
       "        [-1.64793506e-01],\n",
       "        [ 4.97418910e-01],\n",
       "        [ 7.28235468e-02],\n",
       "        [-1.17639929e-01],\n",
       "        [-1.04444418e-02],\n",
       "        [-3.84093612e-01],\n",
       "        [ 6.31005585e-01],\n",
       "        [ 7.58276731e-02],\n",
       "        [-8.46409127e-02],\n",
       "        [-1.93921864e-01],\n",
       "        [-3.80786136e-02],\n",
       "        [ 3.16059738e-01],\n",
       "        [ 7.94179365e-02],\n",
       "        [ 6.87150657e-02],\n",
       "        [ 3.46270263e-01],\n",
       "        [-3.42204459e-02],\n",
       "        [ 4.37316686e-01],\n",
       "        [-8.46680179e-02],\n",
       "        [-6.39110804e-02],\n",
       "        [ 1.96168628e-02],\n",
       "        [ 5.70827536e-02],\n",
       "        [ 5.96626736e-02],\n",
       "        [-1.32478163e-01],\n",
       "        [ 2.94070363e-01],\n",
       "        [ 6.30867556e-02],\n",
       "        [ 3.07910778e-02],\n",
       "        [ 1.63117107e-02],\n",
       "        [-1.23800873e-03],\n",
       "        [ 1.61536992e-01],\n",
       "        [-2.37087384e-01],\n",
       "        [ 6.18651472e-02],\n",
       "        [ 1.06302522e-01],\n",
       "        [ 1.68403715e-01],\n",
       "        [-5.15916288e-01],\n",
       "        [-1.61398917e-01],\n",
       "        [-2.36347198e-01],\n",
       "        [ 4.40159068e-02],\n",
       "        [ 4.20102268e-01],\n",
       "        [ 1.91924781e-01],\n",
       "        [ 5.54620028e-02],\n",
       "        [ 2.54757255e-02],\n",
       "        [ 2.70692915e-01],\n",
       "        [-4.96475816e-01],\n",
       "        [-5.96561506e-02],\n",
       "        [ 1.19821332e-01],\n",
       "        [-3.32229100e-02],\n",
       "        [-2.76271462e-01],\n",
       "        [ 1.17714226e-01],\n",
       "        [ 4.17187124e-01],\n",
       "        [ 3.88079345e-01],\n",
       "        [ 2.87233979e-01],\n",
       "        [-1.01406418e-01],\n",
       "        [-1.61455646e-01],\n",
       "        [ 4.01518308e-02],\n",
       "        [ 2.92434692e-01],\n",
       "        [-9.86129865e-02],\n",
       "        [ 4.86265332e-01],\n",
       "        [-1.25137138e+00],\n",
       "        [ 6.34261221e-02]], dtype=float32),\n",
       " array([0.6552973], dtype=float32)]"
      ]
     },
     "execution_count": 9,
     "metadata": {},
     "output_type": "execute_result"
    }
   ],
   "source": [
    "model.get_weights()"
   ]
  },
  {
   "cell_type": "code",
   "execution_count": 10,
   "metadata": {},
   "outputs": [],
   "source": [
    "# Step:2 Helper Function\n",
    "#Fucntion to decode reviews\n",
    "def decode_review(encode_review):\n",
    "    return ' '.join([reverse_word_index.get(i - 3,'?') for i in encode_review])\n",
    "\n",
    "#function for preprocessing user input\n",
    "def preprocess_text(text):\n",
    "    words = text.lower().split()\n",
    "    encode_review = ([word_index.get(i,2) + 3 for  i in words])\n",
    "    padded_review = sequence.pad_sequences([encode_review], maxlen=500)\n",
    "    return padded_review"
   ]
  },
  {
   "cell_type": "code",
   "execution_count": 14,
   "metadata": {},
   "outputs": [],
   "source": [
    "# prediction function\n",
    "def predict_review(review):\n",
    "    preprocessed_text = preprocess_text(review)\n",
    "    predicition = model.predict(preprocessed_text)\n",
    "    sentiment = 'Positive' if predicition[0][0] > 0.5 else 'Negative'\n",
    "    return sentiment, predicition[0][0]"
   ]
  },
  {
   "cell_type": "code",
   "execution_count": 18,
   "metadata": {},
   "outputs": [
    {
     "name": "stdout",
     "output_type": "stream",
     "text": [
      "\u001b[1m1/1\u001b[0m \u001b[32m━━━━━━━━━━━━━━━━━━━━\u001b[0m\u001b[37m\u001b[0m \u001b[1m0s\u001b[0m 16ms/step\n",
      "Review : Movie is very poor and bad entertainer\n",
      "Sentiment : Positive\n",
      "Prediction Score : 0.5081522464752197\n"
     ]
    }
   ],
   "source": [
    "#User i/p prediction\n",
    "example_review = \"Movie is very poor and bad entertainer\"\n",
    "sentiment,score = predict_review(example_review)\n",
    "\n",
    "print(f'Review : {example_review}')\n",
    "print(f'Sentiment : {sentiment}')\n",
    "print(f'Prediction Score : {score}')"
   ]
  },
  {
   "cell_type": "code",
   "execution_count": null,
   "metadata": {},
   "outputs": [],
   "source": []
  }
 ],
 "metadata": {
  "kernelspec": {
   "display_name": "Python 3",
   "language": "python",
   "name": "python3"
  },
  "language_info": {
   "codemirror_mode": {
    "name": "ipython",
    "version": 3
   },
   "file_extension": ".py",
   "mimetype": "text/x-python",
   "name": "python",
   "nbconvert_exporter": "python",
   "pygments_lexer": "ipython3",
   "version": "3.12.0"
  }
 },
 "nbformat": 4,
 "nbformat_minor": 2
}
